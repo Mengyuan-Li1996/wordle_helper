{
 "cells": [
  {
   "cell_type": "code",
   "execution_count": 305,
   "id": "9bcec576",
   "metadata": {},
   "outputs": [],
   "source": [
    "import os,sys\n",
    "import re\n"
   ]
  },
  {
   "cell_type": "code",
   "execution_count": 323,
   "id": "049952fb",
   "metadata": {},
   "outputs": [
    {
     "data": {
      "text/plain": [
       "5594"
      ]
     },
     "execution_count": 323,
     "metadata": {},
     "output_type": "execute_result"
    }
   ],
   "source": [
    "#https://www.wordgamedictionary.com/english-word-list/\n",
    "a=open(\"english.txt\")\n",
    "FiveLetter=[]\n",
    "for i in a:\n",
    "    i=i.replace(\"\\n\",\"\")\n",
    "    i=re.sub('[^a-zA-Z]+', '', i)\n",
    "    #print(i)\n",
    "    if(len(i)==5):\n",
    "        FiveLetter.append(i.lower())\n",
    "a.close()\n",
    "FiveLetter=list(set(FiveLetter))\n",
    "len(FiveLetter)"
   ]
  },
  {
   "cell_type": "code",
   "execution_count": 324,
   "id": "50d14c5c",
   "metadata": {},
   "outputs": [],
   "source": [
    "#FiveLetter\n"
   ]
  },
  {
   "cell_type": "code",
   "execution_count": 365,
   "id": "a28752db",
   "metadata": {},
   "outputs": [],
   "source": [
    "include=\"an\"\n",
    "first_letter=\"n\"\n",
    "second_letter=\"\"\n",
    "third_letter=\"\"\n",
    "forth_letter=\"a\"\n",
    "fifth_letter=\"\"\n",
    "not_include=\"bredouis\"\n",
    "starts_with=\"\"\n",
    "ends_with=\"\"\n",
    "not_in_1=\"l\"\n",
    "not_in_2=\"\"\n",
    "not_in_3=\"\"\n",
    "not_in_4=\"\"\n",
    "not_in_5=\"\"\n",
    "#apple"
   ]
  },
  {
   "cell_type": "code",
   "execution_count": 366,
   "id": "9765ddb2",
   "metadata": {},
   "outputs": [
    {
     "name": "stdout",
     "output_type": "stream",
     "text": [
      "passed_check\n",
      "['nanak', 'naval', 'natal']\n"
     ]
    }
   ],
   "source": [
    "input_dat={\"include\":include,\"letter_pos\":[first_letter,second_letter,third_letter,forth_letter,fifth_letter],\\\n",
    "           \"not_include\":not_include,\"starts_with\":starts_with,\"ends_with\":ends_with,\\\n",
    "           \"letter_not_pos\":[not_in_1,not_in_2,not_in_3,not_in_4,not_in_5]}\n",
    "\n",
    "def check(input_dat):\n",
    "        for pos in range(0,len(input_dat['letter_pos'])):\n",
    "            if(len(input_dat['letter_pos'][pos])>1):\n",
    "                os.error(\"Please ensure no more than 1 letter in \"+str(pos)+\" position is given!\")\n",
    "        include=list(set(input_dat['include']+re.sub('[^a-zA-Z]+', '', str(input_dat['letter_pos']))+input_dat['starts_with']+input_dat['ends_with']))\n",
    "        #print(include)\n",
    "        switch=0\n",
    "        for i in include:\n",
    "            #print(i)\n",
    "            if i in input_dat['not_include']:\n",
    "                sys.stderr.write(\"please check include and not_include list!\\n\")\n",
    "                break\n",
    "            switch=1\n",
    "        if(switch==1):\n",
    "            print(\"passed_check\")\n",
    "        return include\n",
    "a=check(input_dat)\n",
    "temp=[]\n",
    "temp1=[]\n",
    "for word in FiveLetter:\n",
    "    inter = [i for i in include if i in word]\n",
    "    if(len(inter)==len(include)):\n",
    "        temp.append(word)\n",
    "for word in temp:\n",
    "    inter_not = [i for i in input_dat['not_include'] if i in word]\n",
    "    #print(word)\n",
    "    #print(inter_not)\n",
    "    if(len(inter_not)==0):\n",
    "        temp1.append(word)\n",
    "switch=5\n",
    "#print(temp1)\n",
    "temp=[]\n",
    "for pos in range(0,switch):\n",
    "    if(len(input_dat['letter_pos'][pos])>0):\n",
    "        temp=[]\n",
    "        for word in temp1:\n",
    "            #print(word)\n",
    "            if(input_dat['letter_pos'][pos] in word[pos]):\n",
    "                temp.append(word)\n",
    "        temp1=temp\n",
    "#print(temp1)       \n",
    "for pos in range(0,switch):\n",
    "    if(len(input_dat['letter_not_pos'][pos])>0):\n",
    "        temp=[]\n",
    "        for word in temp1:\n",
    "            #print(word)\n",
    "            if(input_dat['letter_not_pos'][pos] not in word[pos]):\n",
    "                temp.append(word)\n",
    "    temp1=temp\n",
    "#print(temp1)\n",
    "temp=[]\n",
    "if(len(input_dat['starts_with'])>0):\n",
    "    for word in temp1:\n",
    "        if(word.startswith(input_dat['starts_with'])):\n",
    "            temp.append(word)\n",
    "    temp1=temp\n",
    "#print(temp1)\n",
    "temp=[]\n",
    "if(len(input_dat['ends_with'])>0):\n",
    "    for word in temp1:\n",
    "        if(word.endswith(input_dat['ends_with'])):\n",
    "            temp.append(word)\n",
    "    temp1=temp\n",
    "print(temp1)\n",
    "#print(len(temp1))\n",
    "#print(temp1)"
   ]
  },
  {
   "cell_type": "code",
   "execution_count": 346,
   "id": "60d51cfe",
   "metadata": {},
   "outputs": [
    {
     "name": "stdout",
     "output_type": "stream",
     "text": [
      "{'v': 1, 'y': 1, 'x': 1, 'f': 2, 'z': 2, 'c': 2, 'n': 3, 'j': 3, 'h': 3, 'g': 4, 'k': 5, 'p': 5, 'm': 6, 'a': 7}\n",
      "{'n': 1, 'g': 1, 'y': 1, 'm': 1, 'p': 2, 'l': 3, 'a': 36}\n",
      "{'w': 1, 'k': 1, 'c': 1, 'h': 2, 't': 3, 'z': 3, 'm': 3, 'v': 3, 'y': 3, 'g': 3, 'p': 4, 'l': 9, 'n': 9}\n",
      "{'a': 45}\n",
      "{'m': 1, 'f': 1, 'a': 1, 'y': 2, 'w': 2, 't': 2, 'h': 3, 'k': 3, 'x': 3, 'l': 10, 'n': 17}\n"
     ]
    }
   ],
   "source": [
    "diction={}\n",
    "for pos in range(0,switch):\n",
    "    diction[pos]={}\n",
    "    temp2=[]\n",
    "    for word in temp1:\n",
    "        temp2.append(word[pos])\n",
    "    for ele in temp2:\n",
    "        if((ele in diction[pos].keys())==False):\n",
    "            diction[pos][ele]=1\n",
    "        else:\n",
    "            diction[pos][ele]+=1\n",
    "for i in diction:\n",
    "    #print(diction[i])\n",
    "    a=dict(sorted(diction[i].items(), key=lambda item: item[1]))\n",
    "    print(a)"
   ]
  },
  {
   "cell_type": "code",
   "execution_count": 363,
   "id": "852f5f56",
   "metadata": {
    "scrolled": true
   },
   "outputs": [],
   "source": [
    "include=\"mpyn\"\n",
    "first_letter=\"\"\n",
    "second_letter=\"\"\n",
    "third_letter=\"\"\n",
    "forth_letter=\"\"\n",
    "fifth_letter=\"\"\n",
    "not_include=\"\"\n",
    "starts_with=\"\"\n",
    "ends_with=\"\"\n",
    "not_in_1=\"\"\n",
    "not_in_2=\"\"\n",
    "not_in_3=\"\"\n",
    "not_in_4=\"\"\n",
    "not_in_5=\"\""
   ]
  },
  {
   "cell_type": "code",
   "execution_count": 364,
   "id": "e19c83a4",
   "metadata": {},
   "outputs": [
    {
     "name": "stdout",
     "output_type": "stream",
     "text": [
      "passed_check\n",
      "['nymph']\n"
     ]
    }
   ],
   "source": [
    "input_dat={\"include\":include,\"letter_pos\":[first_letter,second_letter,third_letter,forth_letter,fifth_letter],\\\n",
    "           \"not_include\":not_include,\"starts_with\":starts_with,\"ends_with\":ends_with,\\\n",
    "           \"letter_not_pos\":[not_in_1,not_in_2,not_in_3,not_in_4,not_in_5]}\n",
    "a=check(input_dat)\n",
    "temp=[]\n",
    "temp1=[]\n",
    "for word in FiveLetter:\n",
    "    inter = [i for i in include if i in word]\n",
    "    if(len(inter)==len(include)):\n",
    "        temp.append(word)\n",
    "for word in temp:\n",
    "    inter_not = [i for i in input_dat['not_include'] if i in word]\n",
    "    #print(word)\n",
    "    #print(inter_not)\n",
    "    if(len(inter_not)==0):\n",
    "        temp1.append(word)\n",
    "switch=5\n",
    "#print(temp1)\n",
    "temp=[]\n",
    "for pos in range(0,switch):\n",
    "    if(len(input_dat['letter_pos'][pos])>0):\n",
    "        temp=[]\n",
    "        for word in temp1:\n",
    "            #print(word)\n",
    "            if(input_dat['letter_pos'][pos] in word[pos]):\n",
    "                temp.append(word)\n",
    "        temp1=temp\n",
    "#print(temp1)       \n",
    "for pos in range(0,switch):\n",
    "    if(len(input_dat['letter_not_pos'][pos])>0):\n",
    "        temp=[]\n",
    "        for word in temp1:\n",
    "            #print(word)\n",
    "            if(input_dat['letter_not_pos'][pos] not in word[pos]):\n",
    "                temp.append(word)\n",
    "        temp1=temp\n",
    "#print(temp1)\n",
    "temp=[]\n",
    "if(len(input_dat['starts_with'])>0):\n",
    "    for word in temp1:\n",
    "        if(word.startswith(input_dat['starts_with'])):\n",
    "            temp.append(word)\n",
    "    temp1=temp\n",
    "#print(temp1)\n",
    "temp=[]\n",
    "if(len(input_dat['ends_with'])>0):\n",
    "    for word in temp1:\n",
    "        if(word.endswith(input_dat['ends_with'])):\n",
    "            temp.append(word)\n",
    "    temp1=temp\n",
    "print(temp1)\n",
    "#print(len(temp1))\n",
    "#print(temp1)"
   ]
  },
  {
   "cell_type": "code",
   "execution_count": 304,
   "id": "555c361b",
   "metadata": {},
   "outputs": [
    {
     "data": {
      "text/plain": [
       "{0: {'a': 14},\n",
       " 1: {'p': 14},\n",
       " 2: {'n': 1, 'i': 2, 's': 1, 'r': 1, 'a': 2, 'p': 4, 'e': 1, 't': 1, 'h': 1},\n",
       " 3: {'e': 1, 's': 1, 'i': 2, 'o': 1, 'a': 2, 'c': 1, 'r': 3, 'l': 3},\n",
       " 4: {'a': 1,\n",
       "  'h': 1,\n",
       "  's': 1,\n",
       "  'n': 2,\n",
       "  'e': 2,\n",
       "  'l': 1,\n",
       "  't': 1,\n",
       "  'y': 3,\n",
       "  'o': 1,\n",
       "  'd': 1}}"
      ]
     },
     "execution_count": 304,
     "metadata": {},
     "output_type": "execute_result"
    }
   ],
   "source": [
    "diction"
   ]
  },
  {
   "cell_type": "code",
   "execution_count": 298,
   "id": "b65e8ccc",
   "metadata": {},
   "outputs": [
    {
     "data": {
      "text/plain": [
       "3"
      ]
     },
     "execution_count": 298,
     "metadata": {},
     "output_type": "execute_result"
    }
   ],
   "source": [
    "temp2.count('y')"
   ]
  },
  {
   "cell_type": "code",
   "execution_count": 31,
   "id": "fcd8a777",
   "metadata": {},
   "outputs": [
    {
     "data": {
      "text/plain": [
       "[1, 2, 3]"
      ]
     },
     "execution_count": 31,
     "metadata": {},
     "output_type": "execute_result"
    }
   ],
   "source": [
    "a=[1,2]\n",
    "b=[3]\n",
    "a+b"
   ]
  },
  {
   "cell_type": "code",
   "execution_count": null,
   "id": "3c03ef2e",
   "metadata": {},
   "outputs": [],
   "source": [
    "include=[]\n",
    "first_letter=[]\n",
    "second_letter=[]\n",
    "third_letter=[]\n",
    "forth_letter=[]\n",
    "fifth_letter=[]\n",
    "not_include=[]\n",
    "starts_with=[]\n",
    "ends_with=[]\n",
    "not_in_1=[]\n",
    "not_in_2=[]\n",
    "not_in_3=[]\n",
    "not_in_4=[]\n",
    "not_in_5=[]"
   ]
  },
  {
   "cell_type": "code",
   "execution_count": null,
   "id": "fe44141f",
   "metadata": {},
   "outputs": [],
   "source": [
    "include=\"\"\n",
    "first_letter=\"\"\n",
    "second_letter=\"\"\n",
    "third_letter=\"\"\n",
    "forth_letter=\"\"\n",
    "fifth_letter=\"\"\n",
    "not_include=\"\"\n",
    "starts_with=\"\"\n",
    "ends_with=\"\"\n",
    "not_in_1=\"\"\n",
    "not_in_2=\"\"\n",
    "not_in_3=\"\"\n",
    "not_in_4=\"\"\n",
    "not_in_5=\"\""
   ]
  }
 ],
 "metadata": {
  "hide_input": false,
  "kernelspec": {
   "display_name": "Python 3 (ipykernel)",
   "language": "python",
   "name": "python3"
  },
  "language_info": {
   "codemirror_mode": {
    "name": "ipython",
    "version": 3
   },
   "file_extension": ".py",
   "mimetype": "text/x-python",
   "name": "python",
   "nbconvert_exporter": "python",
   "pygments_lexer": "ipython3",
   "version": "3.8.11"
  }
 },
 "nbformat": 4,
 "nbformat_minor": 5
}
