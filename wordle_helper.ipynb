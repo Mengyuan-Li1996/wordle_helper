{
  "cells": [
    {
      "cell_type": "markdown",
      "metadata": {
        "id": "view-in-github",
        "colab_type": "text"
      },
      "source": [
        "<a href=\"https://colab.research.google.com/github/Mengyuan-Li1996/wordle_helper/blob/main/wordle_helper.ipynb\" target=\"_parent\"><img src=\"https://colab.research.google.com/assets/colab-badge.svg\" alt=\"Open In Colab\"/></a>"
      ]
    },
    {
      "cell_type": "code",
      "execution_count": null,
      "id": "9bcec576",
      "metadata": {
        "id": "9bcec576"
      },
      "outputs": [],
      "source": [
        "import os,sys\n",
        "import re\n"
      ]
    },
    {
      "cell_type": "code",
      "execution_count": null,
      "id": "049952fb",
      "metadata": {
        "colab": {
          "base_uri": "https://localhost:8080/"
        },
        "id": "049952fb",
        "outputId": "5286de71-2121-4335-b0f8-7a7d9e0a46ce"
      },
      "outputs": [
        {
          "output_type": "execute_result",
          "data": {
            "text/plain": [
              "5594"
            ]
          },
          "metadata": {},
          "execution_count": 3
        }
      ],
      "source": [
        "#https://www.wordgamedictionary.com/english-word-list/\n",
        "os.system(\"wget https://www.wordgamedictionary.com/english-word-list/download/english.txt\")\n",
        "a=open(\"english.txt\")\n",
        "FiveLetter=[]\n",
        "for i in a:\n",
        "    i=i.replace(\"\\n\",\"\")\n",
        "    i=re.sub('[^a-zA-Z]+', '', i)\n",
        "    #print(i)\n",
        "    if(len(i)==5):\n",
        "        FiveLetter.append(i.lower())\n",
        "a.close()\n",
        "FiveLetter=list(set(FiveLetter))\n",
        "len(FiveLetter)"
      ]
    },
    {
      "cell_type": "code",
      "execution_count": null,
      "id": "50d14c5c",
      "metadata": {
        "id": "50d14c5c"
      },
      "outputs": [],
      "source": [
        "#FiveLetter\n"
      ]
    },
    {
      "cell_type": "code",
      "execution_count": null,
      "id": "a28752db",
      "metadata": {
        "id": "a28752db"
      },
      "outputs": [],
      "source": [
        "include=\"an\"\n",
        "first_letter=\"n\"\n",
        "second_letter=\"\"\n",
        "third_letter=\"\"\n",
        "forth_letter=\"a\"\n",
        "fifth_letter=\"\"\n",
        "not_include=\"bredouis\"\n",
        "starts_with=\"\"\n",
        "ends_with=\"\"\n",
        "not_in_1=\"l\"\n",
        "not_in_2=\"\"\n",
        "not_in_3=\"\"\n",
        "not_in_4=\"\"\n",
        "not_in_5=\"\"\n",
        "#apple"
      ]
    },
    {
      "cell_type": "code",
      "execution_count": null,
      "id": "9765ddb2",
      "metadata": {
        "colab": {
          "base_uri": "https://localhost:8080/"
        },
        "id": "9765ddb2",
        "outputId": "f8eb95f6-ae1a-42c1-d0a6-6daf63b0f362"
      },
      "outputs": [
        {
          "output_type": "stream",
          "name": "stdout",
          "text": [
            "passed_check\n",
            "['naval', 'natal', 'nanak']\n"
          ]
        }
      ],
      "source": [
        "input_dat={\"include\":include,\"letter_pos\":[first_letter,second_letter,third_letter,forth_letter,fifth_letter],\\\n",
        "           \"not_include\":not_include,\"starts_with\":starts_with,\"ends_with\":ends_with,\\\n",
        "           \"letter_not_pos\":[not_in_1,not_in_2,not_in_3,not_in_4,not_in_5]}\n",
        "\n",
        "def check(input_dat):\n",
        "        for pos in range(0,len(input_dat['letter_pos'])):\n",
        "            if(len(input_dat['letter_pos'][pos])>1):\n",
        "                os.error(\"Please ensure no more than 1 letter in \"+str(pos)+\" position is given!\")\n",
        "        include=list(set(input_dat['include']+re.sub('[^a-zA-Z]+', '', str(input_dat['letter_pos']))+input_dat['starts_with']+input_dat['ends_with']))\n",
        "        #print(include)\n",
        "        switch=0\n",
        "        for i in include:\n",
        "            #print(i)\n",
        "            if i in input_dat['not_include']:\n",
        "                sys.stderr.write(\"please check include and not_include list!\\n\")\n",
        "                break\n",
        "            switch=1\n",
        "        if(switch==1):\n",
        "            print(\"passed_check\")\n",
        "        return include\n",
        "a=check(input_dat)\n",
        "temp=[]\n",
        "temp1=[]\n",
        "for word in FiveLetter:\n",
        "    inter = [i for i in include if i in word]\n",
        "    if(len(inter)==len(include)):\n",
        "        temp.append(word)\n",
        "for word in temp:\n",
        "    inter_not = [i for i in input_dat['not_include'] if i in word]\n",
        "    #print(word)\n",
        "    #print(inter_not)\n",
        "    if(len(inter_not)==0):\n",
        "        temp1.append(word)\n",
        "switch=5\n",
        "#print(temp1)\n",
        "temp=[]\n",
        "for pos in range(0,switch):\n",
        "    if(len(input_dat['letter_pos'][pos])>0):\n",
        "        temp=[]\n",
        "        for word in temp1:\n",
        "            #print(word)\n",
        "            if(input_dat['letter_pos'][pos] in word[pos]):\n",
        "                temp.append(word)\n",
        "        temp1=temp\n",
        "#print(temp1)       \n",
        "for pos in range(0,switch):\n",
        "    if(len(input_dat['letter_not_pos'][pos])>0):\n",
        "        temp=[]\n",
        "        for word in temp1:\n",
        "            #print(word)\n",
        "            if(input_dat['letter_not_pos'][pos] not in word[pos]):\n",
        "                temp.append(word)\n",
        "    temp1=temp\n",
        "#print(temp1)\n",
        "temp=[]\n",
        "if(len(input_dat['starts_with'])>0):\n",
        "    for word in temp1:\n",
        "        if(word.startswith(input_dat['starts_with'])):\n",
        "            temp.append(word)\n",
        "    temp1=temp\n",
        "#print(temp1)\n",
        "temp=[]\n",
        "if(len(input_dat['ends_with'])>0):\n",
        "    for word in temp1:\n",
        "        if(word.endswith(input_dat['ends_with'])):\n",
        "            temp.append(word)\n",
        "    temp1=temp\n",
        "print(temp1)\n",
        "#print(len(temp1))\n",
        "#print(temp1)"
      ]
    },
    {
      "cell_type": "code",
      "execution_count": null,
      "id": "60d51cfe",
      "metadata": {
        "colab": {
          "base_uri": "https://localhost:8080/"
        },
        "id": "60d51cfe",
        "outputId": "02735c67-f3f9-4379-a1d6-3120ef28390c"
      },
      "outputs": [
        {
          "output_type": "stream",
          "name": "stdout",
          "text": [
            "{'n': 3}\n",
            "{'a': 3}\n",
            "{'v': 1, 't': 1, 'n': 1}\n",
            "{'a': 3}\n",
            "{'k': 1, 'l': 2}\n"
          ]
        }
      ],
      "source": [
        "diction={}\n",
        "for pos in range(0,switch):\n",
        "    diction[pos]={}\n",
        "    temp2=[]\n",
        "    for word in temp1:\n",
        "        temp2.append(word[pos])\n",
        "    for ele in temp2:\n",
        "        if((ele in diction[pos].keys())==False):\n",
        "            diction[pos][ele]=1\n",
        "        else:\n",
        "            diction[pos][ele]+=1\n",
        "for i in diction:\n",
        "    #print(diction[i])\n",
        "    a=dict(sorted(diction[i].items(), key=lambda item: item[1]))\n",
        "    print(a)"
      ]
    },
    {
      "cell_type": "code",
      "execution_count": null,
      "id": "852f5f56",
      "metadata": {
        "scrolled": true,
        "id": "852f5f56"
      },
      "outputs": [],
      "source": [
        "include=\"mpyn\"\n",
        "first_letter=\"\"\n",
        "second_letter=\"\"\n",
        "third_letter=\"\"\n",
        "forth_letter=\"\"\n",
        "fifth_letter=\"\"\n",
        "not_include=\"\"\n",
        "starts_with=\"\"\n",
        "ends_with=\"\"\n",
        "not_in_1=\"\"\n",
        "not_in_2=\"\"\n",
        "not_in_3=\"\"\n",
        "not_in_4=\"\"\n",
        "not_in_5=\"\""
      ]
    },
    {
      "cell_type": "code",
      "execution_count": null,
      "id": "e19c83a4",
      "metadata": {
        "colab": {
          "base_uri": "https://localhost:8080/"
        },
        "id": "e19c83a4",
        "outputId": "927e109f-a8f7-450f-ff09-2f35a66162d2"
      },
      "outputs": [
        {
          "output_type": "stream",
          "name": "stdout",
          "text": [
            "passed_check\n",
            "['nymph']\n"
          ]
        }
      ],
      "source": [
        "input_dat={\"include\":include,\"letter_pos\":[first_letter,second_letter,third_letter,forth_letter,fifth_letter],\\\n",
        "           \"not_include\":not_include,\"starts_with\":starts_with,\"ends_with\":ends_with,\\\n",
        "           \"letter_not_pos\":[not_in_1,not_in_2,not_in_3,not_in_4,not_in_5]}\n",
        "a=check(input_dat)\n",
        "temp=[]\n",
        "temp1=[]\n",
        "for word in FiveLetter:\n",
        "    inter = [i for i in include if i in word]\n",
        "    if(len(inter)==len(include)):\n",
        "        temp.append(word)\n",
        "for word in temp:\n",
        "    inter_not = [i for i in input_dat['not_include'] if i in word]\n",
        "    #print(word)\n",
        "    #print(inter_not)\n",
        "    if(len(inter_not)==0):\n",
        "        temp1.append(word)\n",
        "switch=5\n",
        "#print(temp1)\n",
        "temp=[]\n",
        "for pos in range(0,switch):\n",
        "    if(len(input_dat['letter_pos'][pos])>0):\n",
        "        temp=[]\n",
        "        for word in temp1:\n",
        "            #print(word)\n",
        "            if(input_dat['letter_pos'][pos] in word[pos]):\n",
        "                temp.append(word)\n",
        "        temp1=temp\n",
        "#print(temp1)       \n",
        "for pos in range(0,switch):\n",
        "    if(len(input_dat['letter_not_pos'][pos])>0):\n",
        "        temp=[]\n",
        "        for word in temp1:\n",
        "            #print(word)\n",
        "            if(input_dat['letter_not_pos'][pos] not in word[pos]):\n",
        "                temp.append(word)\n",
        "        temp1=temp\n",
        "#print(temp1)\n",
        "temp=[]\n",
        "if(len(input_dat['starts_with'])>0):\n",
        "    for word in temp1:\n",
        "        if(word.startswith(input_dat['starts_with'])):\n",
        "            temp.append(word)\n",
        "    temp1=temp\n",
        "#print(temp1)\n",
        "temp=[]\n",
        "if(len(input_dat['ends_with'])>0):\n",
        "    for word in temp1:\n",
        "        if(word.endswith(input_dat['ends_with'])):\n",
        "            temp.append(word)\n",
        "    temp1=temp\n",
        "print(temp1)\n",
        "#print(len(temp1))\n",
        "#print(temp1)"
      ]
    },
    {
      "cell_type": "code",
      "execution_count": null,
      "id": "555c361b",
      "metadata": {
        "colab": {
          "base_uri": "https://localhost:8080/"
        },
        "id": "555c361b",
        "outputId": "87be91ff-d4b0-4a52-8139-0929d01e17d7"
      },
      "outputs": [
        {
          "output_type": "execute_result",
          "data": {
            "text/plain": [
              "{0: {'n': 3},\n",
              " 1: {'a': 3},\n",
              " 2: {'n': 1, 't': 1, 'v': 1},\n",
              " 3: {'a': 3},\n",
              " 4: {'k': 1, 'l': 2}}"
            ]
          },
          "metadata": {},
          "execution_count": 10
        }
      ],
      "source": [
        "diction"
      ]
    },
    {
      "cell_type": "code",
      "execution_count": null,
      "id": "b65e8ccc",
      "metadata": {
        "id": "b65e8ccc",
        "outputId": "37bf7b13-123a-4524-e3f8-d3b551e2f0f5"
      },
      "outputs": [
        {
          "data": {
            "text/plain": [
              "3"
            ]
          },
          "execution_count": 298,
          "metadata": {},
          "output_type": "execute_result"
        }
      ],
      "source": [
        "temp2.count('y')"
      ]
    },
    {
      "cell_type": "code",
      "execution_count": null,
      "id": "fcd8a777",
      "metadata": {
        "id": "fcd8a777",
        "outputId": "5a0507e2-bbdd-45a1-d6c5-380431cd7ce8"
      },
      "outputs": [
        {
          "data": {
            "text/plain": [
              "[1, 2, 3]"
            ]
          },
          "execution_count": 31,
          "metadata": {},
          "output_type": "execute_result"
        }
      ],
      "source": [
        "a=[1,2]\n",
        "b=[3]\n",
        "a+b"
      ]
    },
    {
      "cell_type": "code",
      "execution_count": null,
      "id": "3c03ef2e",
      "metadata": {
        "id": "3c03ef2e"
      },
      "outputs": [],
      "source": [
        "include=[]\n",
        "first_letter=[]\n",
        "second_letter=[]\n",
        "third_letter=[]\n",
        "forth_letter=[]\n",
        "fifth_letter=[]\n",
        "not_include=[]\n",
        "starts_with=[]\n",
        "ends_with=[]\n",
        "not_in_1=[]\n",
        "not_in_2=[]\n",
        "not_in_3=[]\n",
        "not_in_4=[]\n",
        "not_in_5=[]"
      ]
    },
    {
      "cell_type": "code",
      "execution_count": null,
      "id": "fe44141f",
      "metadata": {
        "id": "fe44141f"
      },
      "outputs": [],
      "source": [
        "include=\"\"\n",
        "first_letter=\"\"\n",
        "second_letter=\"\"\n",
        "third_letter=\"\"\n",
        "forth_letter=\"\"\n",
        "fifth_letter=\"\"\n",
        "not_include=\"\"\n",
        "starts_with=\"\"\n",
        "ends_with=\"\"\n",
        "not_in_1=\"\"\n",
        "not_in_2=\"\"\n",
        "not_in_3=\"\"\n",
        "not_in_4=\"\"\n",
        "not_in_5=\"\""
      ]
    }
  ],
  "metadata": {
    "hide_input": false,
    "kernelspec": {
      "display_name": "Python 3 (ipykernel)",
      "language": "python",
      "name": "python3"
    },
    "language_info": {
      "codemirror_mode": {
        "name": "ipython",
        "version": 3
      },
      "file_extension": ".py",
      "mimetype": "text/x-python",
      "name": "python",
      "nbconvert_exporter": "python",
      "pygments_lexer": "ipython3",
      "version": "3.8.11"
    },
    "colab": {
      "name": "wordle_helper.ipynb",
      "provenance": [],
      "include_colab_link": true
    }
  },
  "nbformat": 4,
  "nbformat_minor": 5
}